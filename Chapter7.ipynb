{
 "cells": [
  {
   "cell_type": "markdown",
   "metadata": {},
   "source": [
    "## Chapter 7\n",
    "### This notebook and the figures below are made by Yeseul Lee, under the guidance of Steven Skiena."
   ]
  },
  {
   "cell_type": "code",
   "execution_count": 1,
   "metadata": {
    "collapsed": true
   },
   "outputs": [],
   "source": [
    "from scipy import stats\n",
    "import pandas as pd\n",
    "import matplotlib.pyplot as plt\n",
    "import numpy as np\n",
    "from sklearn.metrics import roc_curve\n",
    "%matplotlib inline"
   ]
  },
  {
   "cell_type": "markdown",
   "metadata": {},
   "source": [
    "### Figure 7.3 and 7.6 Left\n",
    "#### Data Source: https://www.statcrunch.com/app/index.php?dataid=1406047"
   ]
  },
  {
   "cell_type": "code",
   "execution_count": 2,
   "metadata": {
    "collapsed": false,
    "scrolled": false
   },
   "outputs": [
    {
     "data": {
      "text/plain": [
       "<matplotlib.text.Text at 0x7f0af9a375d0>"
      ]
     },
     "execution_count": 2,
     "metadata": {},
     "output_type": "execute_result"
    },
    {
     "data": {
      "image/png": "[encoded data removed]",
      "text/plain": [
       "<matplotlib.figure.Figure at 0x7f0af9e9a350>"
      ]
     },
     "metadata": {},
     "output_type": "display_data"
    }
   ],
   "source": [
    "path = \"/home/yeseul/practice-notebook/weight.xls\"\n",
    "data = pd.ExcelFile(path).parse('Sheet1')\n",
    "men = data[data[\"Gender\"]==1]\n",
    "women = data[data[\"Gender\"]==0]\n",
    "\n",
    "bsize = 75\n",
    "n, bins, patches = plt.hist(men[\"Height\"], bins=range(140,max(men[\"Height\"]),1), normed=True, \\\n",
    "                            color=\"blue\",  alpha=0.4, linewidth=0)\n",
    "\n",
    "plt.hist(women[\"Height\"], bins=range(140,max(men[\"Height\"]),1), normed=True, \\\n",
    "         color=\"red\", alpha=0.4, linewidth=0)\n",
    "\n",
    "plt.ylim(0,0.065)\n",
    "plt.vlines(168, 0, 0.08)\n",
    "\n",
    "plt.text(158, 0.027, \"TN\", fontsize=16, fontweight=\"bold\")\n",
    "plt.text(162, 0.007, \"FN\", fontsize=16, fontweight=\"bold\")\n",
    "plt.text(169, 0.007, \"FP\", fontsize=16, fontweight=\"bold\")\n",
    "plt.text(175, 0.027, \"TP\", fontsize=16, fontweight=\"bold\")"
   ]
  },
  {
   "cell_type": "markdown",
   "metadata": {},
   "source": [
    "### For Figure 7.6, need data that's not normalized."
   ]
  },
  {
   "cell_type": "code",
   "execution_count": 3,
   "metadata": {
    "collapsed": false
   },
   "outputs": [
    {
     "data": {
      "image/png": "[encoded data removed]",
      "text/plain": [
       "<matplotlib.figure.Figure at 0x7f0af9d94290>"
      ]
     },
     "metadata": {},
     "output_type": "display_data"
    }
   ],
   "source": [
    "nM, binM, patchesM = plt.hist(men[\"Height\"], bins=range(140,max(men[\"Height\"]),1), \\\n",
    "                            color=\"blue\",  alpha=0.4, linewidth=0)\n",
    "\n",
    "nW, binW, patchesW = plt.hist(women[\"Height\"], bins=range(140,max(men[\"Height\"]),1), \\\n",
    "         color=\"red\", alpha=0.4, linewidth=0)"
   ]
  },
  {
   "cell_type": "markdown",
   "metadata": {},
   "source": [
    "### Figure 7.6 Right"
   ]
  },
  {
   "cell_type": "code",
   "execution_count": 4,
   "metadata": {
    "collapsed": false
   },
   "outputs": [
    {
     "data": {
      "text/plain": [
       "<matplotlib.text.Text at 0x7f0af5db0ad0>"
      ]
     },
     "execution_count": 4,
     "metadata": {},
     "output_type": "execute_result"
    },
    {
     "data": {
      "image/png": "[encoded data removed]",
      "text/plain": [
       "<matplotlib.figure.Figure at 0x7f0af5f50810>"
      ]
     },
     "metadata": {},
     "output_type": "display_data"
    }
   ],
   "source": [
    "tpr = []\n",
    "fpr = []\n",
    "#total num people\n",
    "totalW = len(women[\"Height\"])\n",
    "totalM = len(men[\"Height\"])\n",
    "\n",
    "#total num people checked.\n",
    "sumW = 0\n",
    "sumM = 0\n",
    "total = len(data[\"Height\"])\n",
    "\n",
    "for i in range(len(binM)-1):\n",
    "    tprate = (totalM-sumM)/float(totalM)\n",
    "    fprate = (totalW-sumW)/float(totalW)\n",
    "    tpr.append(tprate)\n",
    "    fpr.append(fprate)\n",
    "    sumM += nM[i]\n",
    "    sumW += nW[i]\n",
    "    \n",
    "plt.figure(figsize=(5,5))\n",
    "plt.plot(fpr, tpr, 'bo', fpr, tpr, 'b-')\n",
    "plt.plot(np.linspace(0,1,100), np.linspace(0,1,100), 'r-')\n",
    "\n",
    "plt.xlim(-0.05, 1)\n",
    "plt.ylim(0,1.05)\n",
    "plt.xlabel(\"False Positive Rate\")\n",
    "plt.ylabel(\"True Positive Rate\")\n",
    "plt.title(\"ROC Curve for Gender by Height\")"
   ]
  }
 ],
 "metadata": {
  "kernelspec": {
   "display_name": "Python 2",
   "language": "python",
   "name": "python2"
  },
  "language_info": {
   "codemirror_mode": {
    "name": "ipython",
    "version": 2
   },
   "file_extension": ".py",
   "mimetype": "text/x-python",
   "name": "python",
   "nbconvert_exporter": "python",
   "pygments_lexer": "ipython2",
   "version": "2.7.12"
  }
 },
 "nbformat": 4,
 "nbformat_minor": 0
}
